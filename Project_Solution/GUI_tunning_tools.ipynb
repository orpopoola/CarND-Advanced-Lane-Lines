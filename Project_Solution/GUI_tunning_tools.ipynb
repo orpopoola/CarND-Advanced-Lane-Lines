{
 "cells": [
  {
   "cell_type": "markdown",
   "metadata": {},
   "source": [
    "## GUI Tunning Tools for Computer Vision"
   ]
  },
  {
   "cell_type": "markdown",
   "metadata": {},
   "source": [
    "In this notebook, we are going to use bqplots and ipywidget to create visual interractive tools that can be used to tune computer vision images and videos\n"
   ]
  },
  {
   "cell_type": "markdown",
   "metadata": {},
   "source": [
    "**1. Importing packages for the GUI Tuner**"
   ]
  },
  {
   "cell_type": "code",
   "execution_count": 1,
   "metadata": {},
   "outputs": [],
   "source": [
    "from ipywidgets.widgets import Label, FloatProgress, FloatSlider, Button, IntSlider\n",
    "from ipywidgets.widgets import interact, interactive, fixed, interact_manual\n",
    "from ipywidgets.widgets import Layout, HBox, VBox\n",
    "from IPython.display import display\n",
    "import matplotlib.pyplot as plt\n",
    "%matplotlib inline\n",
    "import matplotlib.image as mpimg\n",
    "import cv2\n",
    "import numpy as np\n",
    "import bqplot as bq\n",
    "import time\n",
    "import threading"
   ]
  },
  {
   "cell_type": "markdown",
   "metadata": {},
   "source": [
    "**2. Functions used for threshold tunning**"
   ]
  },
  {
   "cell_type": "code",
   "execution_count": 2,
   "metadata": {},
   "outputs": [],
   "source": [
    "def abs_sob(img, orient,sobel_kernel=3, thresh=(0, 255)):\n",
    "    low_th=thresh[0]\n",
    "    high_th=thresh[1]\n",
    "    gray = cv2.cvtColor(img, cv2.COLOR_BGR2GRAY)\n",
    "    if orient == 'x':\n",
    "        abs_sobel = np.absolute(cv2.Sobel(gray, cv2.CV_64F, 1, 0))\n",
    "    if orient == 'y':\n",
    "        abs_sobel = np.absolute(cv2.Sobel(gray, cv2.CV_64F, 0, 1))\n",
    "    sc_sob = np.uint8(255*abs_sobel/np.max(abs_sobel))\n",
    "    sbinary = np.zeros_like(sc_sob)\n",
    "    sbinary[(sc_sob >= low_th) & (sc_sob <= high_th)] = 1\n",
    "    return sbinary\n",
    "              \n",
    "def mag_thresh(img, sobel_kernel=3, mag_thresh=(0, 255)):\n",
    "    # Convert to grayscale\n",
    "    gray = cv2.cvtColor(img, cv2.COLOR_RGB2GRAY)\n",
    "    # Take both Sobel x and y gradients\n",
    "    sobelx = cv2.Sobel(gray, cv2.CV_64F, 1, 0, ksize=sobel_kernel)\n",
    "    sobely = cv2.Sobel(gray, cv2.CV_64F, 0, 1, ksize=sobel_kernel)\n",
    "    # Calculate the gradient magnitude\n",
    "    gradmag = np.sqrt(sobelx**2 + sobely**2)\n",
    "    # Rescale to 8 bit\n",
    "    scale_factor = np.max(gradmag)/255 \n",
    "    gradmag = (gradmag/scale_factor).astype(np.uint8) \n",
    "    # Create a binary image of ones where threshold is met, zeros otherwise\n",
    "    binary_output = np.zeros_like(gradmag)\n",
    "    binary_output[(gradmag >= mag_thresh[0]) & (gradmag <= mag_thresh[1])] = 1\n",
    "    # Return the binary image\n",
    "    return binary_output\n",
    "              \n",
    "def dir_threshold(img, sobel_kernel=3, thresh=(0, np.pi/2)):\n",
    "    # Grayscale\n",
    "    gray = cv2.cvtColor(img, cv2.COLOR_RGB2GRAY)\n",
    "    # Calculate the x and y gradients\n",
    "    sobelx = cv2.Sobel(gray, cv2.CV_64F, 1, 0, ksize=sobel_kernel)\n",
    "    sobely = cv2.Sobel(gray, cv2.CV_64F, 0, 1, ksize=sobel_kernel)\n",
    "    # Take the absolute value of the gradient direction, \n",
    "    # apply a threshold, and create a binary image result\n",
    "    absgraddir = np.arctan2(np.absolute(sobely), np.absolute(sobelx))\n",
    "    binary_output =  np.zeros_like(absgraddir)\n",
    "    binary_output[(absgraddir >= thresh[0]) & (absgraddir <= thresh[1])] = 1\n",
    "    # Return the binary image\n",
    "    return binary_output\n",
    "              \n",
    "def hls_select(img, thresh=(0, 255)):\n",
    "    hls = cv2.cvtColor(img, cv2.COLOR_RGB2HLS)\n",
    "    s_channel = hls[:,:,2]\n",
    "    binary_output = np.zeros_like(s_channel)\n",
    "    binary_output[(s_channel > thresh[0]) & (s_channel <= thresh[1])] = 1\n",
    "    return binary_output\n",
    "\n",
    "def rgb_select(img,thresh=(0,255)):\n",
    "    r_channel = img[:,:,2] #noting bgr imaging\n",
    "    binary_output = np.zeros_like(r_channel)\n",
    "    binary_output[(r_channel > thresh[0]) & (r_channel <= thresh[1])] = 1\n",
    "    return binary_output\n",
    "    \n",
    "              \n",
    "ksize = 3 # Choose a larger odd number to smooth gradient measurements"
   ]
  },
  {
   "cell_type": "code",
   "execution_count": 52,
   "metadata": {},
   "outputs": [
    {
     "data": {
      "application/vnd.jupyter.widget-view+json": {
       "model_id": "7776445239324ee58f6c4af6922e0ae6",
       "version_major": 2,
       "version_minor": 0
      },
      "text/plain": [
       "interactive(children=(IntSlider(value=11, description='kernel size', layout=Layout(margin='0 0 5px 0', width='…"
      ]
     },
     "metadata": {},
     "output_type": "display_data"
    },
    {
     "data": {
      "text/plain": [
       "<function __main__.find_thresh(ksize, xlo, xhi)>"
      ]
     },
     "execution_count": 52,
     "metadata": {},
     "output_type": "execute_result"
    }
   ],
   "source": [
    "# Apply each of the thresholding functions to x\n",
    "def find_thresh(ksize,xlo,xhi):\n",
    "    image = mpimg.imread('../test_images/test1.jpg')\n",
    "    gradx = abs_sob(image, orient='x', sobel_kernel=ksize, thresh=(xlo, xhi))\n",
    "    # Plot the result\n",
    "    f, (ax1, ax2) = plt.subplots(1, 2, figsize=(24, 9))\n",
    "    f.tight_layout()\n",
    "    ax1.imshow(image)\n",
    "    ax1.set_title('Original Image', fontsize=50)\n",
    "    ax2.imshow(gradx, cmap='gray')\n",
    "    ax2.set_title('x Gradient', fontsize=50)\n",
    "    plt.subplots_adjust(left=0., right=1, top=0.9, bottom=0.)\n",
    "interact(find_thresh, ksize = IntSlider(value=11,min = 1,max = 30,step =2,description = 'kernel size',\n",
    "                                                layout =Layout(width = '490px', margin = '0 0 5px 0')),\\\n",
    "         xlo = IntSlider(value=72,min = 0,max = 255,description = 'x low',\n",
    "                                                layout =Layout(width = '490px', margin = '0 0 5px 0')),\\\n",
    "         xhi = IntSlider(value=195,min = 0,max = 255,description = 'x high',\n",
    "                                                layout =Layout(width = '490px', margin = '0 0 5px 0')))\n",
    "         \n",
    "                                              "
   ]
  },
  {
   "cell_type": "code",
   "execution_count": 6,
   "metadata": {},
   "outputs": [
    {
     "data": {
      "application/vnd.jupyter.widget-view+json": {
       "model_id": "24952f03ff1a479981965a7ae16d211b",
       "version_major": 2,
       "version_minor": 0
      },
      "text/plain": [
       "interactive(children=(IntSlider(value=1, description='kernel size', layout=Layout(margin='0 0 5px 0', width='4…"
      ]
     },
     "metadata": {},
     "output_type": "display_data"
    },
    {
     "data": {
      "text/plain": [
       "<function __main__.find_thresh(ksize, ylo, yhi)>"
      ]
     },
     "execution_count": 6,
     "metadata": {},
     "output_type": "execute_result"
    }
   ],
   "source": [
    "# Apply each of the thresholding functions o x\n",
    "def find_thresh(ksize,ylo,yhi):\n",
    "    image = mpimg.imread('../test_images/test2.jpg')\n",
    "    grady = abs_sob(image, orient='y', sobel_kernel=ksize, thresh=(ylo, yhi))\n",
    "    # Plot the result\n",
    "    f, (ax1, ax2) = plt.subplots(1, 2, figsize=(24, 9))\n",
    "    f.tight_layout()\n",
    "    ax1.imshow(image)\n",
    "    ax1.set_title('Original Image', fontsize=50)\n",
    "    ax2.imshow(grady, cmap='gray')\n",
    "    ax2.set_title('y Gradient', fontsize=50)\n",
    "    plt.subplots_adjust(left=0., right=1, top=0.9, bottom=0.)\n",
    "interact(find_thresh, ksize = IntSlider(value=1,min = 1,max = 9,step =2,description = 'kernel size',\n",
    "                                                layout =Layout(width = '490px', margin = '0 0 5px 0')),\\\n",
    "         ylo = IntSlider(value=20,min = 0,max = 255,description = 'y low',\n",
    "                                                layout =Layout(width = '490px', margin = '0 0 5px 0')),\\\n",
    "         yhi = IntSlider(value=100,min = 0,max = 255,description = 'y high',\n",
    "                                                layout =Layout(width = '490px', margin = '0 0 5px 0')))\n",
    "         \n",
    "                                              "
   ]
  },
  {
   "cell_type": "code",
   "execution_count": 50,
   "metadata": {},
   "outputs": [
    {
     "data": {
      "application/vnd.jupyter.widget-view+json": {
       "model_id": "84de76d95bc840989e6e60252947564a",
       "version_major": 2,
       "version_minor": 0
      },
      "text/plain": [
       "interactive(children=(IntSlider(value=1, description='kernel size', layout=Layout(margin='0 0 5px 0', width='4…"
      ]
     },
     "metadata": {},
     "output_type": "display_data"
    },
    {
     "data": {
      "text/plain": [
       "<function __main__.find_thresh(ksize, mlo, mhi)>"
      ]
     },
     "execution_count": 50,
     "metadata": {},
     "output_type": "execute_result"
    }
   ],
   "source": [
    "# Apply each of the thresholding functions o x\n",
    "def find_thresh(ksize,mlo,mhi):\n",
    "    image = mpimg.imread('../test_images/test1.jpg')\n",
    "    gradm = mag_thresh(image, sobel_kernel=ksize, mag_thresh=(mlo, mhi))\n",
    "    # Plot the result\n",
    "    f, (ax1, ax2) = plt.subplots(1, 2, figsize=(24, 9))\n",
    "    f.tight_layout()\n",
    "    ax1.imshow(image)\n",
    "    ax1.set_title('Original Image', fontsize=50)\n",
    "    ax2.imshow(gradm, cmap='gray')\n",
    "    ax2.set_title('Mag Gradient', fontsize=50)\n",
    "    plt.subplots_adjust(left=0., right=1, top=0.9, bottom=0.)\n",
    "interact(find_thresh, ksize = IntSlider(value=1,min = 1,max = 30,step =2,description = 'kernel size',\n",
    "                                                layout =Layout(width = '490px', margin = '0 0 5px 0')),\\\n",
    "         mlo = IntSlider(value=103,min = 0,max = 255,description = 'm low',\n",
    "                                                layout =Layout(width = '490px', margin = '0 0 5px 0')),\\\n",
    "         mhi = IntSlider(value=224,min = 0,max = 255,description = 'm high',\n",
    "                                                layout =Layout(width = '490px', margin = '0 0 5px 0')))\n",
    "         \n",
    "                                              "
   ]
  },
  {
   "cell_type": "code",
   "execution_count": 16,
   "metadata": {},
   "outputs": [
    {
     "data": {
      "application/vnd.jupyter.widget-view+json": {
       "model_id": "1e3da357b1c844aea6e981ad32b38cb2",
       "version_major": 2,
       "version_minor": 0
      },
      "text/plain": [
       "interactive(children=(IntSlider(value=15, description='kernel size', layout=Layout(margin='0 0 5px 0', width='…"
      ]
     },
     "metadata": {},
     "output_type": "display_data"
    },
    {
     "data": {
      "text/plain": [
       "<function __main__.find_thresh(ksize, dlo, dhi)>"
      ]
     },
     "execution_count": 16,
     "metadata": {},
     "output_type": "execute_result"
    }
   ],
   "source": [
    "# Apply each of the thresholding functions o x\n",
    "def find_thresh(ksize,dlo,dhi):\n",
    "    image = mpimg.imread('../test_images/test2.jpg')\n",
    "    gradd = dir_threshold(image, sobel_kernel=ksize, thresh=(dlo, dhi))\n",
    "    # Plot the result\n",
    "    f, (ax1, ax2) = plt.subplots(1, 2, figsize=(24, 9))\n",
    "    f.tight_layout()\n",
    "    ax1.imshow(image)\n",
    "    ax1.set_title('Original Image', fontsize=50)\n",
    "    ax2.imshow(gradd, cmap='gray')\n",
    "    ax2.set_title('dir Gradient', fontsize=50)\n",
    "    plt.subplots_adjust(left=0., right=1, top=0.9, bottom=0.)\n",
    "interact(find_thresh, ksize = IntSlider(value=15,min = 1,max = 20,step =2,description = 'kernel size',\n",
    "                                                layout =Layout(width = '490px', margin = '0 0 5px 0')),\\\n",
    "         dlo = FloatSlider(value=0.7,min = 0,max = 3,description = 'd low',\n",
    "                                                layout =Layout(width = '490px', margin = '0 0 5px 0')),\\\n",
    "         dhi = FloatSlider(value=1.3,min = 0,max = 3,description = 'd high',\n",
    "                                                layout =Layout(width = '490px', margin = '0 0 5px 0')))\n",
    "         \n",
    "                                              "
   ]
  },
  {
   "cell_type": "code",
   "execution_count": 67,
   "metadata": {},
   "outputs": [
    {
     "data": {
      "application/vnd.jupyter.widget-view+json": {
       "model_id": "5a04d46b4baf469b935c714f303313f9",
       "version_major": 2,
       "version_minor": 0
      },
      "text/plain": [
       "interactive(children=(IntSlider(value=17, description='kernel size', layout=Layout(margin='0 0 5px 0', width='…"
      ]
     },
     "metadata": {},
     "output_type": "display_data"
    },
    {
     "data": {
      "text/plain": [
       "<function __main__.find_thresh(ksize, xlo, xhi, ylo, yhi, mlo, mhi, dlo, dhi, hlo, hhi)>"
      ]
     },
     "execution_count": 67,
     "metadata": {},
     "output_type": "execute_result"
    }
   ],
   "source": [
    "# Apply all of the thresholding functions\n",
    "def find_thresh(ksize,xlo,xhi,ylo,yhi,mlo,mhi,dlo,dhi,hlo,hhi):\n",
    "    image = mpimg.imread('../test_images/test5.jpg')\n",
    "    gradx = abs_sob(image, orient='x', sobel_kernel=ksize, thresh=(xlo, xhi))\n",
    "    grady = abs_sob(image, orient='y', sobel_kernel=ksize, thresh=(ylo, yhi))\n",
    "    mag_binary = mag_thresh(image, sobel_kernel=17, mag_thresh=(mlo, mhi))\n",
    "    dir_binary = dir_threshold(image, sobel_kernel=13, thresh=(dlo, dhi))\n",
    "    grad_hls = hls_select(image, thresh=(hlo, hhi))\n",
    "    ned = np.zeros_like(dir_binary)\n",
    "    ned[((gradx == 1) & (grady == 1)) | ((mag_binary == 1) & (dir_binary == 1))|(grad_hls == 1)] = 1\n",
    "    # Plot the result\n",
    "    f, (ax1, ax2) = plt.subplots(1, 2, figsize=(24, 9))\n",
    "    f.tight_layout()\n",
    "    ax1.imshow(image)\n",
    "    ax1.set_title('Original Image', fontsize=50)\n",
    "    ax2.imshow(ned, cmap='gray')\n",
    "    ax2.set_title('Combined Gradient', fontsize=50)\n",
    "    plt.subplots_adjust(left=0., right=1, top=0.9, bottom=0.)\n",
    "    cv2.imwrite('../output_images/test5.jpg',255*ned)\n",
    "interact(find_thresh, ksize = IntSlider(value=17,min = 1,max = 30,step =2,description = 'kernel size',\n",
    "                                                layout =Layout(width = '490px', margin = '0 0 5px 0')),\\\n",
    "         xlo = IntSlider(value=72,min = 0,max = 255,description = 'x low',\n",
    "                                                layout =Layout(width = '490px', margin = '0 0 5px 0')),\\\n",
    "         xhi = IntSlider(value=199,min = 0,max = 255,description = 'x high',\n",
    "                                                layout =Layout(width = '490px', margin = '0 0 5px 0')),\\\n",
    "         ylo = IntSlider(value=20,min = 0,max = 255,description = 'y low',\n",
    "                                                layout =Layout(width = '490px', margin = '0 0 5px 0')),\\\n",
    "         yhi = IntSlider(value=100,min = 0,max = 255,description = 'y high',\n",
    "                                                layout =Layout(width = '490px', margin = '0 0 5px 0')),\\\n",
    "         mlo = IntSlider(value=103,min = 0,max = 255,description = 'm low',\n",
    "                                                layout =Layout(width = '490px', margin = '0 0 5px 0')),\\\n",
    "         mhi = IntSlider(value=224,min = 0,max = 255,description = 'm high',\n",
    "                                                layout =Layout(width = '490px', margin = '0 0 5px 0')),\\\n",
    "         dlo = FloatSlider(value=0.7,min = 0,max = 255,description = 'd low',\n",
    "                                                layout =Layout(width = '490px', margin = '0 0 5px 0')),\\\n",
    "         dhi = FloatSlider(value=1.30,min = 0,max = 3,description = 'd high',\n",
    "                                                layout =Layout(width = '490px', margin = '0 0 5px 0')),\\\n",
    "         hlo = IntSlider(value=200,min = 0,max = 255,description = 'h low',\n",
    "                                                layout =Layout(width = '490px', margin = '0 0 5px 0')),\\\n",
    "         hhi = IntSlider(value=255,min = 0,max = 255,description = 'h high',\n",
    "                                                layout =Layout(width = '490px', margin = '0 0 5px 0')))\n",
    "                                              "
   ]
  },
  {
   "cell_type": "markdown",
   "metadata": {},
   "source": [
    "*HLS Tresholding*"
   ]
  },
  {
   "cell_type": "code",
   "execution_count": 44,
   "metadata": {},
   "outputs": [
    {
     "data": {
      "application/vnd.jupyter.widget-view+json": {
       "model_id": "aff7239ca7dd49c9808c4ae1daa4ac6d",
       "version_major": 2,
       "version_minor": 0
      },
      "text/plain": [
       "interactive(children=(IntSlider(value=1, description='kernel size', layout=Layout(margin='0 0 5px 0', width='4…"
      ]
     },
     "metadata": {},
     "output_type": "display_data"
    },
    {
     "data": {
      "text/plain": [
       "<function __main__.hls_thresh(ksize, hlo, hhi)>"
      ]
     },
     "execution_count": 44,
     "metadata": {},
     "output_type": "execute_result"
    }
   ],
   "source": [
    "  # Apply each of the thresholding functions to image\n",
    "def hls_thresh(ksize,hlo,hhi):\n",
    "    image = mpimg.imread('../test_images/test4.jpg')\n",
    "    grad_hls = hls_select(image, thresh=(hlo, hhi))\n",
    "    # Plot the result\n",
    "    f, (ax1, ax2) = plt.subplots(1, 2, figsize=(24, 9))\n",
    "    f.tight_layout()\n",
    "    ax1.imshow(image)\n",
    "    ax1.set_title('Original Image', fontsize=50)\n",
    "    ax2.imshow(grad_hls, cmap='gray')\n",
    "    ax2.set_title('HLS Gradient', fontsize=50)\n",
    "    plt.subplots_adjust(left=0., right=1, top=0.9, bottom=0.)\n",
    "interact(hls_thresh, ksize = IntSlider(value=1,min = 1,max = 9,step =2,description = 'kernel size',\n",
    "                                                layout =Layout(width = '490px', margin = '0 0 5px 0')),\\\n",
    "         hlo = IntSlider(value=200,min = 0,max = 255,description = 'm low',\n",
    "                                                layout =Layout(width = '490px', margin = '0 0 5px 0')),\\\n",
    "         hhi = IntSlider(value=255,min = 0,max = 255,description = 'm high',\n",
    "                                                layout =Layout(width = '490px', margin = '0 0 5px 0')))"
   ]
  },
  {
   "cell_type": "code",
   "execution_count": null,
   "metadata": {},
   "outputs": [],
   "source": []
  }
 ],
 "metadata": {
  "kernelspec": {
   "display_name": "Python 3",
   "language": "python",
   "name": "python3"
  },
  "language_info": {
   "codemirror_mode": {
    "name": "ipython",
    "version": 3
   },
   "file_extension": ".py",
   "mimetype": "text/x-python",
   "name": "python",
   "nbconvert_exporter": "python",
   "pygments_lexer": "ipython3",
   "version": "3.7.5"
  }
 },
 "nbformat": 4,
 "nbformat_minor": 2
}
